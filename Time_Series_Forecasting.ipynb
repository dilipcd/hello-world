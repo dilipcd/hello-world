{
 "cells": [
  {
   "cell_type": "markdown",
   "metadata": {},
   "source": [
    "#import relevant libraries"
   ]
  },
  {
   "cell_type": "code",
   "execution_count": 5,
   "metadata": {},
   "outputs": [],
   "source": [
    "import pandas as pd\n",
    "import numpy as np\n",
    "from nsepy import get_history\n",
    "from datetime import date"
   ]
  },
  {
   "cell_type": "code",
   "execution_count": null,
   "metadata": {},
   "outputs": [],
   "source": []
  },
  {
   "cell_type": "code",
   "execution_count": 4,
   "metadata": {},
   "outputs": [
    {
     "name": "stdout",
     "output_type": "stream",
     "text": [
      "\n",
      "The following command must be run outside of the IPython shell:\n",
      "\n",
      "    $ pip install nsepy\n",
      "\n",
      "The Python package manager (pip) can only be used from outside of IPython.\n",
      "Please reissue the `pip` command in a separate terminal or command prompt.\n",
      "\n",
      "See the Python documentation for more information on how to install packages:\n",
      "\n",
      "    https://docs.python.org/3/installing/\n"
     ]
    }
   ],
   "source": [
    " pip install nsepy"
   ]
  },
  {
   "cell_type": "code",
   "execution_count": null,
   "metadata": {},
   "outputs": [],
   "source": []
  },
  {
   "cell_type": "markdown",
   "metadata": {},
   "source": [
    "#import stock prices from NSE"
   ]
  },
  {
   "cell_type": "code",
   "execution_count": 6,
   "metadata": {},
   "outputs": [],
   "source": [
    "SBI = get_history('SBIN', start=date(2017,1,1), end=date(2019,1,25))"
   ]
  },
  {
   "cell_type": "code",
   "execution_count": 7,
   "metadata": {},
   "outputs": [
    {
     "data": {
      "text/html": [
       "<div>\n",
       "<style scoped>\n",
       "    .dataframe tbody tr th:only-of-type {\n",
       "        vertical-align: middle;\n",
       "    }\n",
       "\n",
       "    .dataframe tbody tr th {\n",
       "        vertical-align: top;\n",
       "    }\n",
       "\n",
       "    .dataframe thead th {\n",
       "        text-align: right;\n",
       "    }\n",
       "</style>\n",
       "<table border=\"1\" class=\"dataframe\">\n",
       "  <thead>\n",
       "    <tr style=\"text-align: right;\">\n",
       "      <th></th>\n",
       "      <th>Symbol</th>\n",
       "      <th>Series</th>\n",
       "      <th>Prev Close</th>\n",
       "      <th>Open</th>\n",
       "      <th>High</th>\n",
       "      <th>Low</th>\n",
       "      <th>Last</th>\n",
       "      <th>Close</th>\n",
       "      <th>VWAP</th>\n",
       "      <th>Volume</th>\n",
       "      <th>Turnover</th>\n",
       "      <th>Trades</th>\n",
       "      <th>Deliverable Volume</th>\n",
       "      <th>%Deliverble</th>\n",
       "    </tr>\n",
       "    <tr>\n",
       "      <th>Date</th>\n",
       "      <th></th>\n",
       "      <th></th>\n",
       "      <th></th>\n",
       "      <th></th>\n",
       "      <th></th>\n",
       "      <th></th>\n",
       "      <th></th>\n",
       "      <th></th>\n",
       "      <th></th>\n",
       "      <th></th>\n",
       "      <th></th>\n",
       "      <th></th>\n",
       "      <th></th>\n",
       "      <th></th>\n",
       "    </tr>\n",
       "  </thead>\n",
       "  <tbody>\n",
       "    <tr>\n",
       "      <th>2017-01-02</th>\n",
       "      <td>SBIN</td>\n",
       "      <td>EQ</td>\n",
       "      <td>250.20</td>\n",
       "      <td>252.5</td>\n",
       "      <td>253.65</td>\n",
       "      <td>242.6</td>\n",
       "      <td>243.55</td>\n",
       "      <td>243.60</td>\n",
       "      <td>244.80</td>\n",
       "      <td>25988990</td>\n",
       "      <td>6.362168e+14</td>\n",
       "      <td>164268</td>\n",
       "      <td>12078409</td>\n",
       "      <td>0.4648</td>\n",
       "    </tr>\n",
       "    <tr>\n",
       "      <th>2017-01-03</th>\n",
       "      <td>SBIN</td>\n",
       "      <td>EQ</td>\n",
       "      <td>243.60</td>\n",
       "      <td>244.0</td>\n",
       "      <td>246.40</td>\n",
       "      <td>241.1</td>\n",
       "      <td>244.90</td>\n",
       "      <td>244.90</td>\n",
       "      <td>244.54</td>\n",
       "      <td>15963085</td>\n",
       "      <td>3.903556e+14</td>\n",
       "      <td>112537</td>\n",
       "      <td>4370526</td>\n",
       "      <td>0.2738</td>\n",
       "    </tr>\n",
       "    <tr>\n",
       "      <th>2017-01-04</th>\n",
       "      <td>SBIN</td>\n",
       "      <td>EQ</td>\n",
       "      <td>244.90</td>\n",
       "      <td>245.8</td>\n",
       "      <td>246.40</td>\n",
       "      <td>242.2</td>\n",
       "      <td>243.20</td>\n",
       "      <td>242.90</td>\n",
       "      <td>243.96</td>\n",
       "      <td>11225978</td>\n",
       "      <td>2.738651e+14</td>\n",
       "      <td>91672</td>\n",
       "      <td>3632352</td>\n",
       "      <td>0.3236</td>\n",
       "    </tr>\n",
       "    <tr>\n",
       "      <th>2017-01-05</th>\n",
       "      <td>SBIN</td>\n",
       "      <td>EQ</td>\n",
       "      <td>242.90</td>\n",
       "      <td>245.0</td>\n",
       "      <td>245.90</td>\n",
       "      <td>243.7</td>\n",
       "      <td>245.50</td>\n",
       "      <td>245.35</td>\n",
       "      <td>244.94</td>\n",
       "      <td>11970913</td>\n",
       "      <td>2.932209e+14</td>\n",
       "      <td>88254</td>\n",
       "      <td>4511456</td>\n",
       "      <td>0.3769</td>\n",
       "    </tr>\n",
       "    <tr>\n",
       "      <th>2017-01-06</th>\n",
       "      <td>SBIN</td>\n",
       "      <td>EQ</td>\n",
       "      <td>245.35</td>\n",
       "      <td>246.0</td>\n",
       "      <td>249.00</td>\n",
       "      <td>245.5</td>\n",
       "      <td>246.05</td>\n",
       "      <td>245.90</td>\n",
       "      <td>247.10</td>\n",
       "      <td>12354302</td>\n",
       "      <td>3.052714e+14</td>\n",
       "      <td>75839</td>\n",
       "      <td>3393716</td>\n",
       "      <td>0.2747</td>\n",
       "    </tr>\n",
       "  </tbody>\n",
       "</table>\n",
       "</div>"
      ],
      "text/plain": [
       "           Symbol Series  Prev Close   Open    High    Low    Last   Close  \\\n",
       "Date                                                                         \n",
       "2017-01-02   SBIN     EQ      250.20  252.5  253.65  242.6  243.55  243.60   \n",
       "2017-01-03   SBIN     EQ      243.60  244.0  246.40  241.1  244.90  244.90   \n",
       "2017-01-04   SBIN     EQ      244.90  245.8  246.40  242.2  243.20  242.90   \n",
       "2017-01-05   SBIN     EQ      242.90  245.0  245.90  243.7  245.50  245.35   \n",
       "2017-01-06   SBIN     EQ      245.35  246.0  249.00  245.5  246.05  245.90   \n",
       "\n",
       "              VWAP    Volume      Turnover  Trades  Deliverable Volume  \\\n",
       "Date                                                                     \n",
       "2017-01-02  244.80  25988990  6.362168e+14  164268            12078409   \n",
       "2017-01-03  244.54  15963085  3.903556e+14  112537             4370526   \n",
       "2017-01-04  243.96  11225978  2.738651e+14   91672             3632352   \n",
       "2017-01-05  244.94  11970913  2.932209e+14   88254             4511456   \n",
       "2017-01-06  247.10  12354302  3.052714e+14   75839             3393716   \n",
       "\n",
       "            %Deliverble  \n",
       "Date                     \n",
       "2017-01-02       0.4648  \n",
       "2017-01-03       0.2738  \n",
       "2017-01-04       0.3236  \n",
       "2017-01-05       0.3769  \n",
       "2017-01-06       0.2747  "
      ]
     },
     "execution_count": 7,
     "metadata": {},
     "output_type": "execute_result"
    }
   ],
   "source": [
    "SBI.head()"
   ]
  },
  {
   "cell_type": "code",
   "execution_count": null,
   "metadata": {},
   "outputs": [],
   "source": []
  },
  {
   "cell_type": "code",
   "execution_count": 8,
   "metadata": {},
   "outputs": [],
   "source": [
    "ICICI = get_history('ICICIBANK', start=date(2017,1,1), end=date(2019,1,25))\n"
   ]
  },
  {
   "cell_type": "code",
   "execution_count": 9,
   "metadata": {},
   "outputs": [],
   "source": [
    "HDFC = get_history('HDFCBANK', start=date(2017,1,1), end=date(2019,1,25))"
   ]
  },
  {
   "cell_type": "code",
   "execution_count": 10,
   "metadata": {},
   "outputs": [],
   "source": [
    "INFOSYS = get_history('INFY', start=date(2017,1,1), end=date(2019,1,25))\n",
    "REL = get_history('RELIANCE', start=date(2017,1,1), end=date(2019,1,25))\n",
    "WIPRO = get_history('WIPRO', start=date(2017,1,1), end=date(2019,1,25))\n",
    "AB = get_history('ANDHRABANK', start=date(2017,1,1), end=date(2019,1,25))"
   ]
  },
  {
   "cell_type": "code",
   "execution_count": null,
   "metadata": {},
   "outputs": [],
   "source": []
  },
  {
   "cell_type": "code",
   "execution_count": 96,
   "metadata": {
    "collapsed": true
   },
   "outputs": [],
   "source": [
    "#concatenate and form a new data set call it as banks"
   ]
  },
  {
   "cell_type": "code",
   "execution_count": 11,
   "metadata": {},
   "outputs": [],
   "source": [
    "All_stocks = pd.concat([SBI,ICICI,HDFC,INFOSYS,REL,WIPRO,AB])"
   ]
  },
  {
   "cell_type": "code",
   "execution_count": 12,
   "metadata": {},
   "outputs": [
    {
     "data": {
      "text/plain": [
       "SBIN          513\n",
       "ICICIBANK     513\n",
       "HDFCBANK      513\n",
       "ANDHRABANK    513\n",
       "RELIANCE      513\n",
       "WIPRO         513\n",
       "INFY          513\n",
       "Name: Symbol, dtype: int64"
      ]
     },
     "execution_count": 12,
     "metadata": {},
     "output_type": "execute_result"
    }
   ],
   "source": [
    "All_stocks[\"Symbol\"].value_counts()"
   ]
  },
  {
   "cell_type": "code",
   "execution_count": null,
   "metadata": {},
   "outputs": [],
   "source": []
  },
  {
   "cell_type": "code",
   "execution_count": 26,
   "metadata": {},
   "outputs": [
    {
     "data": {
      "text/plain": [
       "Index(['Symbol', 'Series', 'Prev Close', 'Open', 'High', 'Low', 'Last',\n",
       "       'Close', 'VWAP', 'Volume', 'Turnover', 'Trades', 'Deliverable Volume',\n",
       "       '%Deliverble'],\n",
       "      dtype='object')"
      ]
     },
     "execution_count": 26,
     "metadata": {},
     "output_type": "execute_result"
    }
   ],
   "source": [
    "banks.columns"
   ]
  },
  {
   "cell_type": "code",
   "execution_count": null,
   "metadata": {
    "collapsed": true
   },
   "outputs": [],
   "source": [
    "#use groupby to calculate mean and standard deviation"
   ]
  },
  {
   "cell_type": "code",
   "execution_count": 14,
   "metadata": {},
   "outputs": [],
   "source": [
    "All_stat2 = All_stocks.groupby(All_stocks['Symbol']).agg({'Close':['mean','std','min','max']})"
   ]
  },
  {
   "cell_type": "code",
   "execution_count": 15,
   "metadata": {},
   "outputs": [
    {
     "data": {
      "text/html": [
       "<div>\n",
       "<style scoped>\n",
       "    .dataframe tbody tr th:only-of-type {\n",
       "        vertical-align: middle;\n",
       "    }\n",
       "\n",
       "    .dataframe tbody tr th {\n",
       "        vertical-align: top;\n",
       "    }\n",
       "\n",
       "    .dataframe thead tr th {\n",
       "        text-align: left;\n",
       "    }\n",
       "\n",
       "    .dataframe thead tr:last-of-type th {\n",
       "        text-align: right;\n",
       "    }\n",
       "</style>\n",
       "<table border=\"1\" class=\"dataframe\">\n",
       "  <thead>\n",
       "    <tr>\n",
       "      <th></th>\n",
       "      <th colspan=\"4\" halign=\"left\">Close</th>\n",
       "    </tr>\n",
       "    <tr>\n",
       "      <th></th>\n",
       "      <th>mean</th>\n",
       "      <th>std</th>\n",
       "      <th>min</th>\n",
       "      <th>max</th>\n",
       "    </tr>\n",
       "    <tr>\n",
       "      <th>Symbol</th>\n",
       "      <th></th>\n",
       "      <th></th>\n",
       "      <th></th>\n",
       "      <th></th>\n",
       "    </tr>\n",
       "  </thead>\n",
       "  <tbody>\n",
       "    <tr>\n",
       "      <th>ANDHRABANK</th>\n",
       "      <td>46.596881</td>\n",
       "      <td>13.134481</td>\n",
       "      <td>25.55</td>\n",
       "      <td>74.20</td>\n",
       "    </tr>\n",
       "    <tr>\n",
       "      <th>HDFCBANK</th>\n",
       "      <td>1824.123294</td>\n",
       "      <td>249.713215</td>\n",
       "      <td>1185.50</td>\n",
       "      <td>2202.15</td>\n",
       "    </tr>\n",
       "    <tr>\n",
       "      <th>ICICIBANK</th>\n",
       "      <td>305.431969</td>\n",
       "      <td>28.894984</td>\n",
       "      <td>251.10</td>\n",
       "      <td>382.25</td>\n",
       "    </tr>\n",
       "    <tr>\n",
       "      <th>INFY</th>\n",
       "      <td>994.248441</td>\n",
       "      <td>198.281513</td>\n",
       "      <td>619.10</td>\n",
       "      <td>1441.10</td>\n",
       "    </tr>\n",
       "    <tr>\n",
       "      <th>RELIANCE</th>\n",
       "      <td>1119.703314</td>\n",
       "      <td>212.239885</td>\n",
       "      <td>780.90</td>\n",
       "      <td>1650.10</td>\n",
       "    </tr>\n",
       "    <tr>\n",
       "      <th>SBIN</th>\n",
       "      <td>281.081774</td>\n",
       "      <td>22.345285</td>\n",
       "      <td>233.20</td>\n",
       "      <td>337.50</td>\n",
       "    </tr>\n",
       "    <tr>\n",
       "      <th>WIPRO</th>\n",
       "      <td>338.447076</td>\n",
       "      <td>86.021886</td>\n",
       "      <td>254.25</td>\n",
       "      <td>560.55</td>\n",
       "    </tr>\n",
       "  </tbody>\n",
       "</table>\n",
       "</div>"
      ],
      "text/plain": [
       "                  Close                              \n",
       "                   mean         std      min      max\n",
       "Symbol                                               \n",
       "ANDHRABANK    46.596881   13.134481    25.55    74.20\n",
       "HDFCBANK    1824.123294  249.713215  1185.50  2202.15\n",
       "ICICIBANK    305.431969   28.894984   251.10   382.25\n",
       "INFY         994.248441  198.281513   619.10  1441.10\n",
       "RELIANCE    1119.703314  212.239885   780.90  1650.10\n",
       "SBIN         281.081774   22.345285   233.20   337.50\n",
       "WIPRO        338.447076   86.021886   254.25   560.55"
      ]
     },
     "execution_count": 15,
     "metadata": {},
     "output_type": "execute_result"
    }
   ],
   "source": [
    "All_stat2"
   ]
  },
  {
   "cell_type": "code",
   "execution_count": 16,
   "metadata": {},
   "outputs": [
    {
     "data": {
      "text/plain": [
       "MultiIndex(levels=[['Close'], ['mean', 'std', 'min', 'max']],\n",
       "           labels=[[0, 0, 0, 0], [0, 1, 2, 3]])"
      ]
     },
     "execution_count": 16,
     "metadata": {},
     "output_type": "execute_result"
    }
   ],
   "source": [
    "All_stat2.columns #it is a multilevel indexing"
   ]
  },
  {
   "cell_type": "code",
   "execution_count": 17,
   "metadata": {},
   "outputs": [
    {
     "data": {
      "text/html": [
       "<div>\n",
       "<style scoped>\n",
       "    .dataframe tbody tr th:only-of-type {\n",
       "        vertical-align: middle;\n",
       "    }\n",
       "\n",
       "    .dataframe tbody tr th {\n",
       "        vertical-align: top;\n",
       "    }\n",
       "\n",
       "    .dataframe thead th {\n",
       "        text-align: right;\n",
       "    }\n",
       "</style>\n",
       "<table border=\"1\" class=\"dataframe\">\n",
       "  <thead>\n",
       "    <tr style=\"text-align: right;\">\n",
       "      <th></th>\n",
       "      <th>mean</th>\n",
       "      <th>std</th>\n",
       "      <th>min</th>\n",
       "      <th>max</th>\n",
       "    </tr>\n",
       "    <tr>\n",
       "      <th>Symbol</th>\n",
       "      <th></th>\n",
       "      <th></th>\n",
       "      <th></th>\n",
       "      <th></th>\n",
       "    </tr>\n",
       "  </thead>\n",
       "  <tbody>\n",
       "    <tr>\n",
       "      <th>ANDHRABANK</th>\n",
       "      <td>46.596881</td>\n",
       "      <td>13.134481</td>\n",
       "      <td>25.55</td>\n",
       "      <td>74.20</td>\n",
       "    </tr>\n",
       "    <tr>\n",
       "      <th>HDFCBANK</th>\n",
       "      <td>1824.123294</td>\n",
       "      <td>249.713215</td>\n",
       "      <td>1185.50</td>\n",
       "      <td>2202.15</td>\n",
       "    </tr>\n",
       "    <tr>\n",
       "      <th>ICICIBANK</th>\n",
       "      <td>305.431969</td>\n",
       "      <td>28.894984</td>\n",
       "      <td>251.10</td>\n",
       "      <td>382.25</td>\n",
       "    </tr>\n",
       "    <tr>\n",
       "      <th>INFY</th>\n",
       "      <td>994.248441</td>\n",
       "      <td>198.281513</td>\n",
       "      <td>619.10</td>\n",
       "      <td>1441.10</td>\n",
       "    </tr>\n",
       "    <tr>\n",
       "      <th>RELIANCE</th>\n",
       "      <td>1119.703314</td>\n",
       "      <td>212.239885</td>\n",
       "      <td>780.90</td>\n",
       "      <td>1650.10</td>\n",
       "    </tr>\n",
       "    <tr>\n",
       "      <th>SBIN</th>\n",
       "      <td>281.081774</td>\n",
       "      <td>22.345285</td>\n",
       "      <td>233.20</td>\n",
       "      <td>337.50</td>\n",
       "    </tr>\n",
       "    <tr>\n",
       "      <th>WIPRO</th>\n",
       "      <td>338.447076</td>\n",
       "      <td>86.021886</td>\n",
       "      <td>254.25</td>\n",
       "      <td>560.55</td>\n",
       "    </tr>\n",
       "  </tbody>\n",
       "</table>\n",
       "</div>"
      ],
      "text/plain": [
       "                   mean         std      min      max\n",
       "Symbol                                               \n",
       "ANDHRABANK    46.596881   13.134481    25.55    74.20\n",
       "HDFCBANK    1824.123294  249.713215  1185.50  2202.15\n",
       "ICICIBANK    305.431969   28.894984   251.10   382.25\n",
       "INFY         994.248441  198.281513   619.10  1441.10\n",
       "RELIANCE    1119.703314  212.239885   780.90  1650.10\n",
       "SBIN         281.081774   22.345285   233.20   337.50\n",
       "WIPRO        338.447076   86.021886   254.25   560.55"
      ]
     },
     "execution_count": 17,
     "metadata": {},
     "output_type": "execute_result"
    }
   ],
   "source": [
    "All_stat2['Close']  "
   ]
  },
  {
   "cell_type": "code",
   "execution_count": 18,
   "metadata": {},
   "outputs": [],
   "source": [
    "All_stat3 = All_stat2['Close']"
   ]
  },
  {
   "cell_type": "code",
   "execution_count": 20,
   "metadata": {},
   "outputs": [
    {
     "data": {
      "text/html": [
       "<div>\n",
       "<style scoped>\n",
       "    .dataframe tbody tr th:only-of-type {\n",
       "        vertical-align: middle;\n",
       "    }\n",
       "\n",
       "    .dataframe tbody tr th {\n",
       "        vertical-align: top;\n",
       "    }\n",
       "\n",
       "    .dataframe thead th {\n",
       "        text-align: right;\n",
       "    }\n",
       "</style>\n",
       "<table border=\"1\" class=\"dataframe\">\n",
       "  <thead>\n",
       "    <tr style=\"text-align: right;\">\n",
       "      <th></th>\n",
       "      <th>mean</th>\n",
       "      <th>std</th>\n",
       "      <th>min</th>\n",
       "      <th>max</th>\n",
       "    </tr>\n",
       "    <tr>\n",
       "      <th>Symbol</th>\n",
       "      <th></th>\n",
       "      <th></th>\n",
       "      <th></th>\n",
       "      <th></th>\n",
       "    </tr>\n",
       "  </thead>\n",
       "  <tbody>\n",
       "    <tr>\n",
       "      <th>ANDHRABANK</th>\n",
       "      <td>46.596881</td>\n",
       "      <td>13.134481</td>\n",
       "      <td>25.55</td>\n",
       "      <td>74.20</td>\n",
       "    </tr>\n",
       "    <tr>\n",
       "      <th>HDFCBANK</th>\n",
       "      <td>1824.123294</td>\n",
       "      <td>249.713215</td>\n",
       "      <td>1185.50</td>\n",
       "      <td>2202.15</td>\n",
       "    </tr>\n",
       "    <tr>\n",
       "      <th>ICICIBANK</th>\n",
       "      <td>305.431969</td>\n",
       "      <td>28.894984</td>\n",
       "      <td>251.10</td>\n",
       "      <td>382.25</td>\n",
       "    </tr>\n",
       "    <tr>\n",
       "      <th>INFY</th>\n",
       "      <td>994.248441</td>\n",
       "      <td>198.281513</td>\n",
       "      <td>619.10</td>\n",
       "      <td>1441.10</td>\n",
       "    </tr>\n",
       "    <tr>\n",
       "      <th>RELIANCE</th>\n",
       "      <td>1119.703314</td>\n",
       "      <td>212.239885</td>\n",
       "      <td>780.90</td>\n",
       "      <td>1650.10</td>\n",
       "    </tr>\n",
       "    <tr>\n",
       "      <th>SBIN</th>\n",
       "      <td>281.081774</td>\n",
       "      <td>22.345285</td>\n",
       "      <td>233.20</td>\n",
       "      <td>337.50</td>\n",
       "    </tr>\n",
       "    <tr>\n",
       "      <th>WIPRO</th>\n",
       "      <td>338.447076</td>\n",
       "      <td>86.021886</td>\n",
       "      <td>254.25</td>\n",
       "      <td>560.55</td>\n",
       "    </tr>\n",
       "  </tbody>\n",
       "</table>\n",
       "</div>"
      ],
      "text/plain": [
       "                   mean         std      min      max\n",
       "Symbol                                               \n",
       "ANDHRABANK    46.596881   13.134481    25.55    74.20\n",
       "HDFCBANK    1824.123294  249.713215  1185.50  2202.15\n",
       "ICICIBANK    305.431969   28.894984   251.10   382.25\n",
       "INFY         994.248441  198.281513   619.10  1441.10\n",
       "RELIANCE    1119.703314  212.239885   780.90  1650.10\n",
       "SBIN         281.081774   22.345285   233.20   337.50\n",
       "WIPRO        338.447076   86.021886   254.25   560.55"
      ]
     },
     "execution_count": 20,
     "metadata": {},
     "output_type": "execute_result"
    }
   ],
   "source": [
    "All_stat3"
   ]
  },
  {
   "cell_type": "code",
   "execution_count": 21,
   "metadata": {},
   "outputs": [
    {
     "name": "stderr",
     "output_type": "stream",
     "text": [
      "C:\\Users\\smerat\\AppData\\Local\\Continuum\\anaconda3\\lib\\site-packages\\ipykernel_launcher.py:1: SettingWithCopyWarning: \n",
      "A value is trying to be set on a copy of a slice from a DataFrame.\n",
      "Try using .loc[row_indexer,col_indexer] = value instead\n",
      "\n",
      "See the caveats in the documentation: http://pandas.pydata.org/pandas-docs/stable/indexing.html#indexing-view-versus-copy\n",
      "  \"\"\"Entry point for launching an IPython kernel.\n"
     ]
    }
   ],
   "source": [
    "All_stat3['cv'] = All_stat3['std']/All_stat3['mean']*100   #calculating the CV"
   ]
  },
  {
   "cell_type": "code",
   "execution_count": 22,
   "metadata": {},
   "outputs": [
    {
     "data": {
      "text/html": [
       "<div>\n",
       "<style scoped>\n",
       "    .dataframe tbody tr th:only-of-type {\n",
       "        vertical-align: middle;\n",
       "    }\n",
       "\n",
       "    .dataframe tbody tr th {\n",
       "        vertical-align: top;\n",
       "    }\n",
       "\n",
       "    .dataframe thead th {\n",
       "        text-align: right;\n",
       "    }\n",
       "</style>\n",
       "<table border=\"1\" class=\"dataframe\">\n",
       "  <thead>\n",
       "    <tr style=\"text-align: right;\">\n",
       "      <th></th>\n",
       "      <th>mean</th>\n",
       "      <th>std</th>\n",
       "      <th>min</th>\n",
       "      <th>max</th>\n",
       "      <th>cv</th>\n",
       "    </tr>\n",
       "    <tr>\n",
       "      <th>Symbol</th>\n",
       "      <th></th>\n",
       "      <th></th>\n",
       "      <th></th>\n",
       "      <th></th>\n",
       "      <th></th>\n",
       "    </tr>\n",
       "  </thead>\n",
       "  <tbody>\n",
       "    <tr>\n",
       "      <th>ANDHRABANK</th>\n",
       "      <td>46.596881</td>\n",
       "      <td>13.134481</td>\n",
       "      <td>25.55</td>\n",
       "      <td>74.20</td>\n",
       "      <td>28.187467</td>\n",
       "    </tr>\n",
       "    <tr>\n",
       "      <th>HDFCBANK</th>\n",
       "      <td>1824.123294</td>\n",
       "      <td>249.713215</td>\n",
       "      <td>1185.50</td>\n",
       "      <td>2202.15</td>\n",
       "      <td>13.689492</td>\n",
       "    </tr>\n",
       "    <tr>\n",
       "      <th>ICICIBANK</th>\n",
       "      <td>305.431969</td>\n",
       "      <td>28.894984</td>\n",
       "      <td>251.10</td>\n",
       "      <td>382.25</td>\n",
       "      <td>9.460367</td>\n",
       "    </tr>\n",
       "    <tr>\n",
       "      <th>INFY</th>\n",
       "      <td>994.248441</td>\n",
       "      <td>198.281513</td>\n",
       "      <td>619.10</td>\n",
       "      <td>1441.10</td>\n",
       "      <td>19.942854</td>\n",
       "    </tr>\n",
       "    <tr>\n",
       "      <th>RELIANCE</th>\n",
       "      <td>1119.703314</td>\n",
       "      <td>212.239885</td>\n",
       "      <td>780.90</td>\n",
       "      <td>1650.10</td>\n",
       "      <td>18.955011</td>\n",
       "    </tr>\n",
       "    <tr>\n",
       "      <th>SBIN</th>\n",
       "      <td>281.081774</td>\n",
       "      <td>22.345285</td>\n",
       "      <td>233.20</td>\n",
       "      <td>337.50</td>\n",
       "      <td>7.949745</td>\n",
       "    </tr>\n",
       "    <tr>\n",
       "      <th>WIPRO</th>\n",
       "      <td>338.447076</td>\n",
       "      <td>86.021886</td>\n",
       "      <td>254.25</td>\n",
       "      <td>560.55</td>\n",
       "      <td>25.416643</td>\n",
       "    </tr>\n",
       "  </tbody>\n",
       "</table>\n",
       "</div>"
      ],
      "text/plain": [
       "                   mean         std      min      max         cv\n",
       "Symbol                                                          \n",
       "ANDHRABANK    46.596881   13.134481    25.55    74.20  28.187467\n",
       "HDFCBANK    1824.123294  249.713215  1185.50  2202.15  13.689492\n",
       "ICICIBANK    305.431969   28.894984   251.10   382.25   9.460367\n",
       "INFY         994.248441  198.281513   619.10  1441.10  19.942854\n",
       "RELIANCE    1119.703314  212.239885   780.90  1650.10  18.955011\n",
       "SBIN         281.081774   22.345285   233.20   337.50   7.949745\n",
       "WIPRO        338.447076   86.021886   254.25   560.55  25.416643"
      ]
     },
     "execution_count": 22,
     "metadata": {},
     "output_type": "execute_result"
    }
   ],
   "source": [
    "All_stat3"
   ]
  },
  {
   "cell_type": "code",
   "execution_count": 25,
   "metadata": {},
   "outputs": [],
   "source": [
    "def risk(row):\n",
    "    if row[\"cv\"]<=10:\n",
    "        return \"LowRisk\"\n",
    "    elif row[\"cv\"]>10 and row[\"cv\"]<=20:\n",
    "        return \"MediumRisk\"\n",
    "    else:\n",
    "        return \"HighRisk\"\n",
    "\n",
    "All_stat4=All_stat3.assign(Risk_Class = All_stat3.apply(risk,axis=1))"
   ]
  },
  {
   "cell_type": "code",
   "execution_count": 26,
   "metadata": {},
   "outputs": [
    {
     "data": {
      "text/html": [
       "<div>\n",
       "<style scoped>\n",
       "    .dataframe tbody tr th:only-of-type {\n",
       "        vertical-align: middle;\n",
       "    }\n",
       "\n",
       "    .dataframe tbody tr th {\n",
       "        vertical-align: top;\n",
       "    }\n",
       "\n",
       "    .dataframe thead th {\n",
       "        text-align: right;\n",
       "    }\n",
       "</style>\n",
       "<table border=\"1\" class=\"dataframe\">\n",
       "  <thead>\n",
       "    <tr style=\"text-align: right;\">\n",
       "      <th></th>\n",
       "      <th>mean</th>\n",
       "      <th>std</th>\n",
       "      <th>min</th>\n",
       "      <th>max</th>\n",
       "      <th>cv</th>\n",
       "      <th>Risk_Class</th>\n",
       "    </tr>\n",
       "    <tr>\n",
       "      <th>Symbol</th>\n",
       "      <th></th>\n",
       "      <th></th>\n",
       "      <th></th>\n",
       "      <th></th>\n",
       "      <th></th>\n",
       "      <th></th>\n",
       "    </tr>\n",
       "  </thead>\n",
       "  <tbody>\n",
       "    <tr>\n",
       "      <th>ANDHRABANK</th>\n",
       "      <td>46.596881</td>\n",
       "      <td>13.134481</td>\n",
       "      <td>25.55</td>\n",
       "      <td>74.20</td>\n",
       "      <td>28.187467</td>\n",
       "      <td>HighRisk</td>\n",
       "    </tr>\n",
       "    <tr>\n",
       "      <th>HDFCBANK</th>\n",
       "      <td>1824.123294</td>\n",
       "      <td>249.713215</td>\n",
       "      <td>1185.50</td>\n",
       "      <td>2202.15</td>\n",
       "      <td>13.689492</td>\n",
       "      <td>MediumRisk</td>\n",
       "    </tr>\n",
       "    <tr>\n",
       "      <th>ICICIBANK</th>\n",
       "      <td>305.431969</td>\n",
       "      <td>28.894984</td>\n",
       "      <td>251.10</td>\n",
       "      <td>382.25</td>\n",
       "      <td>9.460367</td>\n",
       "      <td>LowRisk</td>\n",
       "    </tr>\n",
       "    <tr>\n",
       "      <th>INFY</th>\n",
       "      <td>994.248441</td>\n",
       "      <td>198.281513</td>\n",
       "      <td>619.10</td>\n",
       "      <td>1441.10</td>\n",
       "      <td>19.942854</td>\n",
       "      <td>MediumRisk</td>\n",
       "    </tr>\n",
       "    <tr>\n",
       "      <th>RELIANCE</th>\n",
       "      <td>1119.703314</td>\n",
       "      <td>212.239885</td>\n",
       "      <td>780.90</td>\n",
       "      <td>1650.10</td>\n",
       "      <td>18.955011</td>\n",
       "      <td>MediumRisk</td>\n",
       "    </tr>\n",
       "    <tr>\n",
       "      <th>SBIN</th>\n",
       "      <td>281.081774</td>\n",
       "      <td>22.345285</td>\n",
       "      <td>233.20</td>\n",
       "      <td>337.50</td>\n",
       "      <td>7.949745</td>\n",
       "      <td>LowRisk</td>\n",
       "    </tr>\n",
       "    <tr>\n",
       "      <th>WIPRO</th>\n",
       "      <td>338.447076</td>\n",
       "      <td>86.021886</td>\n",
       "      <td>254.25</td>\n",
       "      <td>560.55</td>\n",
       "      <td>25.416643</td>\n",
       "      <td>HighRisk</td>\n",
       "    </tr>\n",
       "  </tbody>\n",
       "</table>\n",
       "</div>"
      ],
      "text/plain": [
       "                   mean         std      min      max         cv  Risk_Class\n",
       "Symbol                                                                      \n",
       "ANDHRABANK    46.596881   13.134481    25.55    74.20  28.187467    HighRisk\n",
       "HDFCBANK    1824.123294  249.713215  1185.50  2202.15  13.689492  MediumRisk\n",
       "ICICIBANK    305.431969   28.894984   251.10   382.25   9.460367     LowRisk\n",
       "INFY         994.248441  198.281513   619.10  1441.10  19.942854  MediumRisk\n",
       "RELIANCE    1119.703314  212.239885   780.90  1650.10  18.955011  MediumRisk\n",
       "SBIN         281.081774   22.345285   233.20   337.50   7.949745     LowRisk\n",
       "WIPRO        338.447076   86.021886   254.25   560.55  25.416643    HighRisk"
      ]
     },
     "execution_count": 26,
     "metadata": {},
     "output_type": "execute_result"
    }
   ],
   "source": [
    "All_stat4"
   ]
  },
  {
   "cell_type": "code",
   "execution_count": 28,
   "metadata": {},
   "outputs": [],
   "source": [
    "import pandas as pd\n",
    "import matplotlib.mlab as mlab\n",
    "import matplotlib.pyplot as plt\n",
    "import numpy as np\n",
    "import math\n",
    "from statsmodels.tsa.stattools import acf, pacf\n",
    "import statsmodels.tsa.stattools as ts\n",
    "from statsmodels.tsa.arima_model import ARIMA\n",
    "\n",
    "import warnings\n",
    "import itertools\n",
    "import statsmodels.api as sm"
   ]
  },
  {
   "cell_type": "code",
   "execution_count": null,
   "metadata": {},
   "outputs": [],
   "source": []
  },
  {
   "cell_type": "code",
   "execution_count": 29,
   "metadata": {},
   "outputs": [
    {
     "data": {
      "text/plain": [
       "<matplotlib.axes._subplots.AxesSubplot at 0x23eb6067be0>"
      ]
     },
     "execution_count": 29,
     "metadata": {},
     "output_type": "execute_result"
    },
    {
     "data": {
      "image/png": "[encoded data removed]",
      "text/plain": [
       "<Figure size 432x288 with 1 Axes>"
      ]
     },
     "metadata": {
      "needs_background": "light"
     },
     "output_type": "display_data"
    }
   ],
   "source": [
    "from nsepy import get_history\n",
    "from datetime import date\n",
    "Sbi_data = get_history(symbol=\"SBIN\", start=date(2018,1,1), end=date(2018,12,31))\n",
    "Sbi_data[['Close']].plot()"
   ]
  },
  {
   "cell_type": "code",
   "execution_count": 30,
   "metadata": {},
   "outputs": [],
   "source": [
    "Sbi_data[\"firstdiff\"] = Sbi_data.Close - Sbi_data.Close.shift(1)\n",
    "Sbi_data[\"seasonaldiff\"] =Sbi_data.firstdiff - Sbi_data.firstdiff.shift(5)"
   ]
  },
  {
   "cell_type": "code",
   "execution_count": 31,
   "metadata": {},
   "outputs": [],
   "source": [
    "Sbi_data = Sbi_data.reset_index()"
   ]
  },
  {
   "cell_type": "code",
   "execution_count": 32,
   "metadata": {},
   "outputs": [
    {
     "data": {
      "text/html": [
       "<div>\n",
       "<style scoped>\n",
       "    .dataframe tbody tr th:only-of-type {\n",
       "        vertical-align: middle;\n",
       "    }\n",
       "\n",
       "    .dataframe tbody tr th {\n",
       "        vertical-align: top;\n",
       "    }\n",
       "\n",
       "    .dataframe thead th {\n",
       "        text-align: right;\n",
       "    }\n",
       "</style>\n",
       "<table border=\"1\" class=\"dataframe\">\n",
       "  <thead>\n",
       "    <tr style=\"text-align: right;\">\n",
       "      <th></th>\n",
       "      <th>Date</th>\n",
       "      <th>Close</th>\n",
       "      <th>firstdiff</th>\n",
       "      <th>seasonaldiff</th>\n",
       "    </tr>\n",
       "  </thead>\n",
       "  <tbody>\n",
       "    <tr>\n",
       "      <th>0</th>\n",
       "      <td>2018-01-01</td>\n",
       "      <td>307.10</td>\n",
       "      <td>NaN</td>\n",
       "      <td>NaN</td>\n",
       "    </tr>\n",
       "    <tr>\n",
       "      <th>1</th>\n",
       "      <td>2018-01-02</td>\n",
       "      <td>303.25</td>\n",
       "      <td>-3.85</td>\n",
       "      <td>NaN</td>\n",
       "    </tr>\n",
       "    <tr>\n",
       "      <th>2</th>\n",
       "      <td>2018-01-03</td>\n",
       "      <td>302.85</td>\n",
       "      <td>-0.40</td>\n",
       "      <td>NaN</td>\n",
       "    </tr>\n",
       "    <tr>\n",
       "      <th>3</th>\n",
       "      <td>2018-01-04</td>\n",
       "      <td>308.50</td>\n",
       "      <td>5.65</td>\n",
       "      <td>NaN</td>\n",
       "    </tr>\n",
       "    <tr>\n",
       "      <th>4</th>\n",
       "      <td>2018-01-05</td>\n",
       "      <td>306.35</td>\n",
       "      <td>-2.15</td>\n",
       "      <td>NaN</td>\n",
       "    </tr>\n",
       "  </tbody>\n",
       "</table>\n",
       "</div>"
      ],
      "text/plain": [
       "         Date   Close  firstdiff  seasonaldiff\n",
       "0  2018-01-01  307.10        NaN           NaN\n",
       "1  2018-01-02  303.25      -3.85           NaN\n",
       "2  2018-01-03  302.85      -0.40           NaN\n",
       "3  2018-01-04  308.50       5.65           NaN\n",
       "4  2018-01-05  306.35      -2.15           NaN"
      ]
     },
     "execution_count": 32,
     "metadata": {},
     "output_type": "execute_result"
    }
   ],
   "source": [
    "Sbi_data[['Date','Close','firstdiff','seasonaldiff']].head()"
   ]
  },
  {
   "cell_type": "code",
   "execution_count": 33,
   "metadata": {},
   "outputs": [],
   "source": [
    "from statsmodels.graphics.tsaplots import plot_acf\n",
    "from statsmodels.graphics.tsaplots import plot_pacf\n",
    "from matplotlib import pyplot"
   ]
  },
  {
   "cell_type": "code",
   "execution_count": 34,
   "metadata": {},
   "outputs": [
    {
     "data": {
      "image/png": "[encoded data removed]",
      "text/plain": [
       "<Figure size 1152x576 with 2 Axes>"
      ]
     },
     "metadata": {
      "needs_background": "light"
     },
     "output_type": "display_data"
    }
   ],
   "source": [
    "pyplot.figure(figsize=(16,8))\n",
    "pyplot.subplot(211)\n",
    "plot_acf(Sbi_data[\"seasonaldiff\"].iloc[6:], lags = 60, ax=pyplot.gca()) \n",
    "pyplot.subplot(212)\n",
    "plot_pacf(Sbi_data[\"seasonaldiff\"].iloc[6:], lags=60, ax=pyplot.gca()) \n",
    "pyplot.show()"
   ]
  },
  {
   "cell_type": "code",
   "execution_count": 35,
   "metadata": {},
   "outputs": [
    {
     "data": {
      "text/html": [
       "<table class=\"simpletable\">\n",
       "<caption>Statespace Model Results</caption>\n",
       "<tr>\n",
       "  <th>Dep. Variable:</th>               <td>Close</td>             <th>  No. Observations:  </th>    <td>246</td>  \n",
       "</tr>\n",
       "<tr>\n",
       "  <th>Model:</th>           <td>SARIMAX(1, 1, 1)x(4, 1, 1, 5)</td> <th>  Log Likelihood     </th> <td>-689.734</td>\n",
       "</tr>\n",
       "<tr>\n",
       "  <th>Date:</th>                  <td>Mon, 28 Jan 2019</td>        <th>  AIC                </th> <td>1395.468</td>\n",
       "</tr>\n",
       "<tr>\n",
       "  <th>Time:</th>                      <td>08:48:11</td>            <th>  BIC                </th> <td>1422.581</td>\n",
       "</tr>\n",
       "<tr>\n",
       "  <th>Sample:</th>                        <td>0</td>               <th>  HQIC               </th> <td>1406.418</td>\n",
       "</tr>\n",
       "<tr>\n",
       "  <th></th>                            <td> - 246</td>             <th>                     </th>     <td> </td>   \n",
       "</tr>\n",
       "<tr>\n",
       "  <th>Covariance Type:</th>              <td>opg</td>              <th>                     </th>     <td> </td>   \n",
       "</tr>\n",
       "</table>\n",
       "<table class=\"simpletable\">\n",
       "<tr>\n",
       "      <td></td>        <th>coef</th>     <th>std err</th>      <th>z</th>      <th>P>|z|</th>  <th>[0.025</th>    <th>0.975]</th>  \n",
       "</tr>\n",
       "<tr>\n",
       "  <th>ar.L1</th>    <td>   -0.5607</td> <td>    1.021</td> <td>   -0.549</td> <td> 0.583</td> <td>   -2.562</td> <td>    1.441</td>\n",
       "</tr>\n",
       "<tr>\n",
       "  <th>ma.L1</th>    <td>    0.5298</td> <td>    1.052</td> <td>    0.504</td> <td> 0.614</td> <td>   -1.532</td> <td>    2.591</td>\n",
       "</tr>\n",
       "<tr>\n",
       "  <th>ar.S.L5</th>  <td>   -0.0059</td> <td>    0.073</td> <td>   -0.081</td> <td> 0.935</td> <td>   -0.149</td> <td>    0.137</td>\n",
       "</tr>\n",
       "<tr>\n",
       "  <th>ar.S.L10</th> <td>    0.1111</td> <td>    0.072</td> <td>    1.538</td> <td> 0.124</td> <td>   -0.030</td> <td>    0.253</td>\n",
       "</tr>\n",
       "<tr>\n",
       "  <th>ar.S.L15</th> <td>   -0.0493</td> <td>    0.063</td> <td>   -0.779</td> <td> 0.436</td> <td>   -0.173</td> <td>    0.075</td>\n",
       "</tr>\n",
       "<tr>\n",
       "  <th>ar.S.L20</th> <td>   -0.0940</td> <td>    0.075</td> <td>   -1.259</td> <td> 0.208</td> <td>   -0.240</td> <td>    0.052</td>\n",
       "</tr>\n",
       "<tr>\n",
       "  <th>ma.S.L5</th>  <td>   -1.0000</td> <td>  354.821</td> <td>   -0.003</td> <td> 0.998</td> <td> -696.437</td> <td>  694.437</td>\n",
       "</tr>\n",
       "<tr>\n",
       "  <th>sigma2</th>   <td>   29.3088</td> <td> 1.04e+04</td> <td>    0.003</td> <td> 0.998</td> <td>-2.04e+04</td> <td> 2.04e+04</td>\n",
       "</tr>\n",
       "</table>\n",
       "<table class=\"simpletable\">\n",
       "<tr>\n",
       "  <th>Ljung-Box (Q):</th>          <td>22.00</td> <th>  Jarque-Bera (JB):  </th> <td>6.48</td>\n",
       "</tr>\n",
       "<tr>\n",
       "  <th>Prob(Q):</th>                <td>0.99</td>  <th>  Prob(JB):          </th> <td>0.04</td>\n",
       "</tr>\n",
       "<tr>\n",
       "  <th>Heteroskedasticity (H):</th> <td>1.16</td>  <th>  Skew:              </th> <td>0.21</td>\n",
       "</tr>\n",
       "<tr>\n",
       "  <th>Prob(H) (two-sided):</th>    <td>0.53</td>  <th>  Kurtosis:          </th> <td>3.73</td>\n",
       "</tr>\n",
       "</table><br/><br/>Warnings:<br/>[1] Covariance matrix calculated using the outer product of gradients (complex-step)."
      ],
      "text/plain": [
       "<class 'statsmodels.iolib.summary.Summary'>\n",
       "\"\"\"\n",
       "                                 Statespace Model Results                                \n",
       "=========================================================================================\n",
       "Dep. Variable:                             Close   No. Observations:                  246\n",
       "Model:             SARIMAX(1, 1, 1)x(4, 1, 1, 5)   Log Likelihood                -689.734\n",
       "Date:                           Mon, 28 Jan 2019   AIC                           1395.468\n",
       "Time:                                   08:48:11   BIC                           1422.581\n",
       "Sample:                                        0   HQIC                          1406.418\n",
       "                                           - 246                                         \n",
       "Covariance Type:                             opg                                         \n",
       "==============================================================================\n",
       "                 coef    std err          z      P>|z|      [0.025      0.975]\n",
       "------------------------------------------------------------------------------\n",
       "ar.L1         -0.5607      1.021     -0.549      0.583      -2.562       1.441\n",
       "ma.L1          0.5298      1.052      0.504      0.614      -1.532       2.591\n",
       "ar.S.L5       -0.0059      0.073     -0.081      0.935      -0.149       0.137\n",
       "ar.S.L10       0.1111      0.072      1.538      0.124      -0.030       0.253\n",
       "ar.S.L15      -0.0493      0.063     -0.779      0.436      -0.173       0.075\n",
       "ar.S.L20      -0.0940      0.075     -1.259      0.208      -0.240       0.052\n",
       "ma.S.L5       -1.0000    354.821     -0.003      0.998    -696.437     694.437\n",
       "sigma2        29.3088   1.04e+04      0.003      0.998   -2.04e+04    2.04e+04\n",
       "===================================================================================\n",
       "Ljung-Box (Q):                       22.00   Jarque-Bera (JB):                 6.48\n",
       "Prob(Q):                              0.99   Prob(JB):                         0.04\n",
       "Heteroskedasticity (H):               1.16   Skew:                             0.21\n",
       "Prob(H) (two-sided):                  0.53   Kurtosis:                         3.73\n",
       "===================================================================================\n",
       "\n",
       "Warnings:\n",
       "[1] Covariance matrix calculated using the outer product of gradients (complex-step).\n",
       "\"\"\""
      ]
     },
     "execution_count": 35,
     "metadata": {},
     "output_type": "execute_result"
    }
   ],
   "source": [
    "mod_1 = sm.tsa.statespace.SARIMAX(Sbi_data[\"Close\"],\n",
    "                                 order=(1, 1, 1),\n",
    "                                seasonal_order=(4, 1, 1, 5),\n",
    "                                enforce_stationarity=False,\n",
    "                                enforce_invertibility=False)\n",
    "\n",
    "results_1 = mod_1.fit()\n",
    "\n",
    "results_1.summary()"
   ]
  },
  {
   "cell_type": "code",
   "execution_count": 36,
   "metadata": {},
   "outputs": [
    {
     "data": {
      "text/plain": [
       "247    295.951515\n",
       "248    296.470659\n",
       "249    296.177949\n",
       "250    295.945059\n",
       "251    296.318358\n",
       "252    295.218206\n",
       "253    293.811741\n",
       "254    294.312054\n",
       "255    294.518554\n",
       "256    294.588007\n",
       "257    293.833072\n",
       "258    292.837551\n",
       "259    293.524936\n",
       "260    293.641607\n",
       "261    293.721100\n",
       "262    293.099899\n",
       "263    292.698853\n",
       "264    292.744371\n",
       "265    292.670667\n",
       "266    292.803254\n",
       "267    292.377648\n",
       "268    291.876912\n",
       "269    292.184439\n",
       "270    292.205478\n",
       "271    292.324584\n",
       "272    291.998055\n",
       "273    291.724621\n",
       "274    291.875572\n",
       "275    291.838045\n",
       "276    291.991184\n",
       "277    291.646761\n",
       "dtype: float64"
      ]
     },
     "execution_count": 36,
     "metadata": {},
     "output_type": "execute_result"
    }
   ],
   "source": [
    "predictions=results_1.predict(247, 277, typ='levels')\n",
    "predictions"
   ]
  },
  {
   "cell_type": "code",
   "execution_count": 37,
   "metadata": {},
   "outputs": [
    {
     "data": {
      "text/plain": [
       "(246, 17)"
      ]
     },
     "execution_count": 37,
     "metadata": {},
     "output_type": "execute_result"
    }
   ],
   "source": [
    "Sbi_data.shape"
   ]
  },
  {
   "cell_type": "code",
   "execution_count": null,
   "metadata": {},
   "outputs": [],
   "source": []
  }
 ],
 "metadata": {
  "kernelspec": {
   "display_name": "Python 3",
   "language": "python",
   "name": "python3"
  },
  "language_info": {
   "codemirror_mode": {
    "name": "ipython",
    "version": 3
   },
   "file_extension": ".py",
   "mimetype": "text/x-python",
   "name": "python",
   "nbconvert_exporter": "python",
   "pygments_lexer": "ipython3",
   "version": "3.7.1"
  }
 },
 "nbformat": 4,
 "nbformat_minor": 2
}
